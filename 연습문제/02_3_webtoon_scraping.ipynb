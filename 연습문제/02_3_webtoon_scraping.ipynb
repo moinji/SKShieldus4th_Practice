{
 "cells": [
  {
   "cell_type": "code",
   "execution_count": 3,
   "metadata": {},
   "outputs": [],
   "source": [
    "import requests\n",
    "from bs4 import BeautifulSoup\n",
    "import os\n",
    "from urllib.parse import urljoin, parse_qs, urlparse\n",
    "\n",
    "# 2-2에서 만든 함수 재사용\n",
    "def download_one_episode(title, no, url):\n",
    "    req_header = {\n",
    "        'referer': url,\n",
    "        \"user-agent\": (\n",
    "            \"Mozilla/5.0 (Windows NT 10.0; Win64; x64) \"\n",
    "            \"AppleWebKit/537.36 (KHTML, like Gecko) \"\n",
    "            \"Chrome/104.0.0.0 Safari/537.36\"\n",
    "        )\n",
    "    }\n",
    "\n",
    "    res = requests.get(url, headers=req_header)\n",
    "    if res.ok:\n",
    "        soup = BeautifulSoup(res.text, 'html.parser')\n",
    "        img_tags = soup.select(\"img[src*='IMAG01']\")\n",
    "\n",
    "        base_dir = os.path.join(\"img\", title, str(no))\n",
    "        os.makedirs(base_dir, exist_ok=True)\n",
    "\n",
    "        for idx, img_tag in enumerate(img_tags, 1):\n",
    "            img_url = img_tag['src']\n",
    "            img_data = requests.get(img_url, headers=req_header).content\n",
    "\n",
    "            ext = os.path.splitext(img_url)[-1]\n",
    "            filename = f\"{idx:03d}{ext}\"\n",
    "            file_path = os.path.join(base_dir, filename)\n",
    "\n",
    "            with open(file_path, 'wb') as file:\n",
    "                file.write(img_data)\n",
    "                print(f\"✓ 저장됨: {file_path} ({len(img_data):,} bytes)\")\n",
    "    else:\n",
    "        print(f\"[Error] 요청 실패: {res.status_code}\")\n",
    "\n",
    "# 2-3. 전체 회차 처리 함수\n",
    "def download_all_episode(title, episode_url):\n",
    "    headers = {\n",
    "        \"user-agent\": (\n",
    "            \"Mozilla/5.0 (Windows NT 10.0; Win64; x64) \"\n",
    "            \"AppleWebKit/537.36 (KHTML, like Gecko) \"\n",
    "            \"Chrome/104.0.0.0 Safari/537.36\"\n",
    "        )\n",
    "    }\n",
    "\n",
    "    res = requests.get(episode_url, headers=headers)\n",
    "    if not res.ok:\n",
    "        print(f\"[Error] 회차 목록 페이지 요청 실패: {res.status_code}\")\n",
    "        return\n",
    "\n",
    "    soup = BeautifulSoup(res.text, 'html.parser')\n",
    "\n",
    "    # 회차 <a href=\"...\"> 추출\n",
    "    detail_links = soup.select('td.title a[href^=\"/webtoon/detail\"]')\n",
    "\n",
    "    episode_urls = []\n",
    "    seen = set()  # 중복 제거\n",
    "\n",
    "    for a in detail_links:\n",
    "        href = a.get('href')\n",
    "        full_url = urljoin(episode_url, href)\n",
    "        parsed = urlparse(full_url)\n",
    "        query = parse_qs(parsed.query)\n",
    "        no_list = query.get('no')\n",
    "\n",
    "        if no_list:\n",
    "            no = int(no_list[0])\n",
    "            if no not in seen:\n",
    "                seen.add(no)\n",
    "                episode_urls.append((no, full_url))\n",
    "\n",
    "    # 내림차순 정렬 (최신 회차부터)\n",
    "    episode_urls.sort(reverse=True)\n",
    "\n",
    "    print(f\"[INFO] 총 {len(episode_urls)}개 회차 발견됨\")\n",
    "\n",
    "    # 각 회차별 다운로드 실행\n",
    "    for no, url in episode_urls:\n",
    "        print(f\"\\n▶ {title} {no}화 다운로드 중...\")\n",
    "        download_one_episode(title, no, url)\n"
   ]
  },
  {
   "cell_type": "code",
   "execution_count": 5,
   "metadata": {},
   "outputs": [
    {
     "name": "stdout",
     "output_type": "stream",
     "text": [
      "[INFO] 총 0개 회차 발견됨\n"
     ]
    }
   ],
   "source": [
    "download_all_episode('배달왕', 'https://comic.naver.com/webtoon/list?titleId=823933')"
   ]
  }
 ],
 "metadata": {
  "kernelspec": {
   "display_name": "base",
   "language": "python",
   "name": "python3"
  },
  "language_info": {
   "codemirror_mode": {
    "name": "ipython",
    "version": 3
   },
   "file_extension": ".py",
   "mimetype": "text/x-python",
   "name": "python",
   "nbconvert_exporter": "python",
   "pygments_lexer": "ipython3",
   "version": "3.12.7"
  },
  "orig_nbformat": 4
 },
 "nbformat": 4,
 "nbformat_minor": 2
}
